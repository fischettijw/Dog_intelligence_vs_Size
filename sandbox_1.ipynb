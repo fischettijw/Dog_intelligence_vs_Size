{
 "cells": [
  {
   "cell_type": "markdown",
   "metadata": {},
   "source": [
    "# Header\n",
    "\n",
    "[Python Pandas Tutorial (11 videos) by Corey Schafer](https://www.youtube.com/watch?v=ZyhVh-qRZPA&list=PL-osiE80TeTsWmV9i9c58mdDCSskIFdDS)"
   ]
  },
  {
   "cell_type": "code",
   "execution_count": 52,
   "metadata": {},
   "outputs": [
    {
     "name": "stdout",
     "output_type": "stream",
     "text": [
      "  x1  x2  x3\n",
      "0  a   7   1\n",
      "1  b   6   2\n",
      "2  c   5   1\n",
      "3  d   4   2\n",
      "4  e   3   3\n",
      "5  f   2   3\n",
      "  x1  x2  x3\n",
      "1  b   6   2\n",
      "3  d   4   2\n",
      "  x1  x2  x3\n",
      "1  b   6   2\n",
      "3  d   4   2\n",
      "4  e   3   3\n",
      "5  f   2   3\n",
      "  x1  x2  x3\n",
      "0  a   7   1\n",
      "2  c   5   1\n",
      "4  e   3   3\n",
      "5  f   2   3\n",
      "  x1  x2  x3\n",
      "0  a   7   1\n",
      "2  c   5   1\n"
     ]
    }
   ],
   "source": [
    "import pandas as pd                                         # Import pandas\n",
    "\n",
    "data = pd.DataFrame({'x1':['a', 'b', 'c', 'd', 'e', 'f'],   # Create pandas DataFrame\n",
    "                     'x2':range(7, 1, - 1),\n",
    "                     'x3':[1, 2, 1, 2, 3, 3]})\n",
    "print(data)                                                 # Print pandas DataFrame\n",
    "\n",
    "data_sub1 = data[data['x3'] == 2]                       # Get rows with particular value\n",
    "print(data_sub1)                                        # Print DataFrame subset\n",
    "\n",
    "data_sub2 = data[data['x3'] >= 2]                       # Get rows in range\n",
    "print(data_sub2)                                        # Print DataFrame subset\n",
    "\n",
    "data_sub3 = data[data['x3'].isin([1, 3])]               # Get rows with set of values\n",
    "print(data_sub3)                                        # Print DataFrame subset\n",
    "\n",
    "data_sub4 = data[(data['x2'] > 3) & (data['x3'] == 1)]  # Multiple conditions\n",
    "print(data_sub4)                                            # Print DataFrame subset"
   ]
  },
  {
   "cell_type": "code",
   "execution_count": 56,
   "metadata": {},
   "outputs": [
    {
     "data": {
      "text/plain": [
       "0    False\n",
       "1    False\n",
       "2     True\n",
       "3    False\n",
       "4    False\n",
       "5    False\n",
       "Name: x1, dtype: bool"
      ]
     },
     "execution_count": 56,
     "metadata": {},
     "output_type": "execute_result"
    }
   ],
   "source": [
    "data['x1'] == 'c'"
   ]
  },
  {
   "cell_type": "markdown",
   "metadata": {},
   "source": [
    "[ Grouping and Aggregating](https://www.youtube.com/watch?v=txMdrV1Ut64&list=PL-osiE80TeTsWmV9i9c58mdDCSskIFdDS&index=8)"
   ]
  },
  {
   "cell_type": "code",
   "execution_count": null,
   "metadata": {},
   "outputs": [],
   "source": [
    "from IPython.display import YouTubeVideo\n",
    "\n",
    "# Display a YouTube video by its ID\n",
    "display(YouTubeVideo('lnks1IcoHUo'))"
   ]
  }
 ],
 "metadata": {
  "kernelspec": {
   "display_name": "Python 3",
   "language": "python",
   "name": "python3"
  },
  "language_info": {
   "codemirror_mode": {
    "name": "ipython",
    "version": 3
   },
   "file_extension": ".py",
   "mimetype": "text/x-python",
   "name": "python",
   "nbconvert_exporter": "python",
   "pygments_lexer": "ipython3",
   "version": "3.11.4"
  }
 },
 "nbformat": 4,
 "nbformat_minor": 2
}
